{
 "cells": [
  {
   "cell_type": "markdown",
   "metadata": {},
   "source": [
    "## Quiz #0401"
   ]
  },
  {
   "cell_type": "markdown",
   "metadata": {},
   "source": [
    "### \"Optimal number of clusters for K-means clustering\""
   ]
  },
  {
   "cell_type": "code",
   "execution_count": 1,
   "metadata": {},
   "outputs": [],
   "source": [
    "import numpy as np\n",
    "import pandas as pd\n",
    "import matplotlib.pyplot as plt\n",
    "from sklearn.datasets import make_blobs\n",
    "from sklearn.cluster import KMeans\n",
    "%matplotlib inline"
   ]
  },
  {
   "cell_type": "markdown",
   "metadata": {},
   "source": [
    "#### Answer the following question by providing Python code:"
   ]
  },
  {
   "cell_type": "code",
   "execution_count": 2,
   "metadata": {},
   "outputs": [
    {
     "data": {
      "text/plain": [
       "(150, 8)"
      ]
     },
     "execution_count": 2,
     "metadata": {},
     "output_type": "execute_result"
    }
   ],
   "source": [
    "# We will use simulated data.\n",
    "# 3 clusters in 8 dimensional space.\n",
    "# Hard to visualize!\n",
    "X, label = make_blobs(n_samples=150, n_features=8, centers=3, cluster_std = 2, random_state=123)\n",
    "X.shape"
   ]
  },
  {
   "cell_type": "markdown",
   "metadata": {},
   "source": [
    "1). Define a function that calculates the \"total internal sum of squares\".\n",
    "- X         :   Data.\n",
    "- centers   :   Array that contains the centroid coordinates. Calculated by kmeans.\n",
    "- clusters  :   Array of cluster labels. Calculated by kmeans. <br> <br>\n",
    "HINT: Implement the formula from the lecture note."
   ]
  },
  {
   "cell_type": "code",
   "execution_count": 11,
   "metadata": {},
   "outputs": [],
   "source": [
    "kmeans = KMeans(n_clusters=3) \n",
    "kmeans.fit(X)\n",
    "y_kmeans = kmeans.predict(X)\n",
    "centers = kmeans.cluster_centers_\n",
    "clusters = kmeans.labels_       "
   ]
  },
  {
   "cell_type": "code",
   "execution_count": 54,
   "metadata": {},
   "outputs": [
    {
     "name": "stdout",
     "output_type": "stream",
     "text": [
      "[[ 4.77901274e+00 -5.75892942e+00 -3.27303355e+00  1.49413366e+00\n",
      "   3.54369589e+00 -3.36893022e+00  1.03681891e+01  4.15665756e+00]\n",
      " [ 3.52377800e-01 -2.07755473e+00 -3.42434865e+00  6.18483772e+00\n",
      "  -1.47639379e+00 -9.15946186e+00 -1.70571843e+00  7.72443034e+00]\n",
      " [-6.50411634e+00 -6.71858742e+00  7.78675761e-01  7.76806894e-01\n",
      "   1.35005206e+00  6.90065037e+00  5.85973301e+00  1.32125911e+00]\n",
      " [-1.94772706e+00 -2.00888503e+00 -3.90619431e+00  2.85870673e+00\n",
      "  -2.71717350e+00 -8.95925682e+00 -3.89908198e+00  4.79919646e+00]\n",
      " [ 4.65745840e+00 -4.30361900e+00 -6.11816955e+00 -1.03531287e+00\n",
      "   2.40033833e+00 -1.98599002e+00  8.75677582e+00  4.53653342e+00]\n",
      " [ 4.79934184e-01 -2.41638333e+00 -8.54944659e-01  3.86140179e+00\n",
      "  -3.20668474e+00 -6.23265264e+00 -3.12810968e+00  5.80265099e+00]\n",
      " [-5.91544190e+00 -6.86189768e+00  3.26651612e-01  1.07354537e+00\n",
      "   4.88711010e+00  7.51509123e+00  4.23098721e+00  1.67844890e+00]\n",
      " [ 3.04790493e+00 -2.38150123e+00 -6.14373743e+00  7.06571918e-01\n",
      "   5.10505233e+00 -3.76193981e+00  9.58876502e+00  2.19326914e+00]\n",
      " [-5.25828310e+00 -4.77200601e+00 -5.06294705e+00  4.08575139e+00\n",
      "  -6.49143118e+00 -6.28899946e+00 -8.38764421e-01  8.72907291e+00]\n",
      " [-2.53063138e+00 -1.70457133e+00 -3.95585726e+00  4.39765502e+00\n",
      "   4.94813088e-02 -9.07009170e+00 -8.86036914e-01  3.06831768e+00]\n",
      " [ 1.49171135e+00 -1.61408751e+00 -1.38617313e+00  5.04890942e+00\n",
      "  -1.33932952e+00 -9.17179251e+00 -2.61686929e+00  3.74932965e+00]\n",
      " [ 8.04436478e-01 -4.41017822e+00 -5.60624824e+00  2.19557160e+00\n",
      "   3.65583704e+00  1.34603541e-01  9.78247506e+00  3.11114581e+00]\n",
      " [-5.51052994e+00 -6.07738540e+00  8.20931034e-01 -8.33788183e-01\n",
      "   1.46675290e+00  6.41113323e+00  1.91615314e+00  2.93333874e+00]\n",
      " [ 4.99984455e+00 -5.53279368e+00 -5.65376048e+00  1.36187857e+00\n",
      "   6.44967516e+00  8.38343851e-03  9.43331759e+00  2.92298827e+00]]\n",
      "[ 2  9  7 12  3  2  4 10  2 13 12 13 10  0 11  1  5  7 10  2 10  7  0  4\n",
      " 11  2  6  6  7  6 11 12  1  4  3  7  1  6  0  9  5 13  2  2  6  4 10  1\n",
      "  4  3  0  4  2  9  7  2  0 11  9 12  5  6  6  2 10  2  6  4  2  9 10  6\n",
      "  5 13  2  9  9  2  2  2  1  1  1  3 13  2  2 13  6  3  0 10  6 12  9 12\n",
      "  7 10 11 13  6  3  3  6 12 11  2  4  5 13  1  6 12 13  2  2 11  4  0  7\n",
      "  6 10  4 12  0  0  6 13  9  1  4  9  1  7  2 13  3 10  5 12  4 12 10  8\n",
      "  1 13  2  9 10  7]\n"
     ]
    }
   ],
   "source": [
    "print(centers)\n",
    "\n",
    "\n",
    "print(clusters)"
   ]
  },
  {
   "cell_type": "code",
   "execution_count": 55,
   "metadata": {},
   "outputs": [],
   "source": [
    "\n",
    "def total_internal_ss(X,centers, clusters):\n",
    "    A= centers.shape[0] \n",
    "    B= centers.shape[1]\n",
    "    N_rows = X.shape[0]\n",
    "    closest_centers = np.zeros((N_rows, B))\n",
    "    for n in range(A):\n",
    "        x = clusters == n\n",
    "        for j in range(B):\n",
    "            closest_centers[x,j] = centers[n,j]    #  the centroid (closest) to the given observation!\n",
    "    return np.sum((X-closest_centers)**2)    #nearest neighbors\n"
   ]
  },
  {
   "cell_type": "code",
   "execution_count": 56,
   "metadata": {},
   "outputs": [
    {
     "data": {
      "text/plain": [
       "3114.7743459999942"
      ]
     },
     "execution_count": 56,
     "metadata": {},
     "output_type": "execute_result"
    }
   ],
   "source": [
    "total_internal_ss(X, centers, clusters)"
   ]
  },
  {
   "cell_type": "markdown",
   "metadata": {},
   "source": [
    "2). Visualize as a Scatter plot the \"total internal sum of squares\" vs N# of clusters. \n",
    "- Then, determine the optimal number of clusters.\n",
    "- Is this number the same as expected?"
   ]
  },
  {
   "cell_type": "code",
   "execution_count": 57,
   "metadata": {},
   "outputs": [
    {
     "data": {
      "image/png": "[encoded data removed]",
      "text/plain": [
       "<Figure size 432x288 with 1 Axes>"
      ]
     },
     "metadata": {
      "needs_background": "light"
     },
     "output_type": "display_data"
    }
   ],
   "source": [
    "n_cluster = np.array(range(1,15))          # Array that contains the number of clusters.\n",
    "total_ss = np.array([])                    # Array that will contain the total internal sum of squares.\n",
    "for n in n_cluster:\n",
    "    kmeans = KMeans(n_clusters=n)\n",
    "    clusters = kmeans.fit(X).labels_\n",
    "    centers = kmeans.cluster_centers_\n",
    "    total_ss = np.append(total_ss, total_internal_ss(X,centers,clusters))\n",
    "    \n",
    "    \n",
    "# to plot    \n",
    "plt.plot(n_cluster,total_ss,color='green',marker='o',linewidth=2,markersize=6)\n",
    "plt.show()"
   ]
  },
  {
   "cell_type": "markdown",
   "metadata": {},
   "source": [
    "From the plot we can observe using the elbow method that the optimal number of clusters is 3\n",
    "yes it is the same as expected!\n"
   ]
  }
 ],
 "metadata": {
  "kernelspec": {
   "display_name": "Python 3",
   "language": "python",
   "name": "python3"
  },
  "language_info": {
   "codemirror_mode": {
    "name": "ipython",
    "version": 3
   },
   "file_extension": ".py",
   "mimetype": "text/x-python",
   "name": "python",
   "nbconvert_exporter": "python",
   "pygments_lexer": "ipython3",
   "version": "3.8.3"
  },
  "toc": {
   "base_numbering": 1,
   "nav_menu": {},
   "number_sections": true,
   "sideBar": true,
   "skip_h1_title": false,
   "title_cell": "Table of Contents",
   "title_sidebar": "Contents",
   "toc_cell": false,
   "toc_position": {},
   "toc_section_display": true,
   "toc_window_display": false
  },
  "varInspector": {
   "cols": {
    "lenName": 16,
    "lenType": 16,
    "lenVar": 40
   },
   "kernels_config": {
    "python": {
     "delete_cmd_postfix": "",
     "delete_cmd_prefix": "del ",
     "library": "var_list.py",
     "varRefreshCmd": "print(var_dic_list())"
    },
    "r": {
     "delete_cmd_postfix": ") ",
     "delete_cmd_prefix": "rm(",
     "library": "var_list.r",
     "varRefreshCmd": "cat(var_dic_list()) "
    }
   },
   "types_to_exclude": [
    "module",
    "function",
    "builtin_function_or_method",
    "instance",
    "_Feature"
   ],
   "window_display": false
  }
 },
 "nbformat": 4,
 "nbformat_minor": 2
}
