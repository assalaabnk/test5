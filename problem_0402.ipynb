{
 "cells": [
  {
   "cell_type": "markdown",
   "metadata": {},
   "source": [
    "## Quiz #0402"
   ]
  },
  {
   "cell_type": "markdown",
   "metadata": {},
   "source": [
    "### \"OLS solution\""
   ]
  },
  {
   "cell_type": "code",
   "execution_count": 1,
   "metadata": {},
   "outputs": [],
   "source": [
    "import numpy as np\n",
    "import pandas as pd"
   ]
  },
  {
   "cell_type": "markdown",
   "metadata": {},
   "source": [
    "#### Answer the following question by providing Python code:\n",
    "<br>\n",
    "study = an array that contains the hours of study. This is the explanatory variable. <br>\n",
    "score = an array that contains the test scores. This is the response variable."
   ]
  },
  {
   "cell_type": "code",
   "execution_count": 2,
   "metadata": {},
   "outputs": [],
   "source": [
    "study = np.array([ 3, 4.5, 6, 1.2, 2, 6.9, 6.7, 5.5]).reshape(-1,1)\n",
    "score = np.array([ 88, 85, 90, 80, 81, 92, 95, 90]).reshape(-1,1)"
   ]
  },
  {
   "cell_type": "markdown",
   "metadata": {},
   "source": [
    "1). Define the 'linerRegression' class to match the output shown below:"
   ]
  },
  {
   "cell_type": "code",
   "execution_count": 9,
   "metadata": {},
   "outputs": [],
   "source": [
    "class linearRegression:\n",
    "    def __init__(self):\n",
    "        return\n",
    "         \n",
    "    def train(self, input_X, input_Y):          #use the training dataset and get the set of model parameters βi \n",
    "        a = input_X.shape[0]\n",
    "        b = input_X.shape[1]                    #a>b over determined\n",
    "        ones_column = np.ones((a,1))\n",
    "        X = np.concatenate((ones_column,input_X),axis= 1)\n",
    "        Y = input_Y.copy()\n",
    "\n",
    "        #Regression coeffs by OLS\n",
    "        self.beta = np.dot(np.linalg.inv(np.dot(X.T,X)),np.dot(X.T,Y)) #the best solution formula β = (XT.X)−XT.Y\n",
    "\n",
    "        #Residuals\n",
    "        self.residuals = Y - np.dot(X,self.beta)\n",
    "\n",
    "        #R^2\n",
    "        SSE = np.dot((self.residuals).T, self.residuals) #the sum of squares error.\n",
    "        SST = np.dot((Y - Y.mean()).T, (Y-Y.mean()))#The sum of squares total\n",
    "        self.rsquared = 1.0 - SSE[0][0]/SST[0][0]   # R² = 1 - (SSE/SST) (coefficient of determination!)\n",
    "        #if there is one explanatory variable X then : R² = Cor(X,Y)²\n",
    "\n",
    "        #Summary\n",
    "        self.summary = pd.DataFrame(self.beta,columns = ['Coefficient'])\n",
    "        features = ['Intercept']\n",
    "        for i in range(1,b+1) : \n",
    "            features +=['X' + str(i)]\n",
    "        self.summary.index = features \n",
    "        return\n",
    "\n",
    "    def output(self):\n",
    "        print(self.summary)\n",
    "        print(\"-\"*30)\n",
    "        print(\"R^2 : %f\" % self.rsquared)\n"
   ]
  },
  {
   "cell_type": "markdown",
   "metadata": {},
   "source": [
    "**Sample run:**"
   ]
  },
  {
   "cell_type": "code",
   "execution_count": 4,
   "metadata": {},
   "outputs": [
    {
     "name": "stdout",
     "output_type": "stream",
     "text": [
      "           Coefficient\n",
      "Intercept    77.684670\n",
      "X1            2.221303\n",
      "------------------------------\n",
      "R^2 : 0.845842\n"
     ]
    }
   ],
   "source": [
    "LR = linearRegression()                    # Create a linear regression object.\n",
    "LR.train(study, score)                     # Train.\n",
    "LR.output()                                # Display the training result."
   ]
  },
  {
   "cell_type": "code",
   "execution_count": 10,
   "metadata": {},
   "outputs": [
    {
     "name": "stdout",
     "output_type": "stream",
     "text": [
      "           Coefficient\n",
      "Intercept    77.684670\n",
      "X1            2.221303\n",
      "------------------------------\n",
      "R^2 : 0.845842\n"
     ]
    }
   ],
   "source": [
    "#testing the code\n",
    "LR = linearRegression()                    \n",
    "LR.train(study, score)                     \n",
    "LR.output()                                "
   ]
  },
  {
   "cell_type": "code",
   "execution_count": null,
   "metadata": {},
   "outputs": [],
   "source": []
  }
 ],
 "metadata": {
  "kernelspec": {
   "display_name": "Python 3",
   "language": "python",
   "name": "python3"
  },
  "language_info": {
   "codemirror_mode": {
    "name": "ipython",
    "version": 3
   },
   "file_extension": ".py",
   "mimetype": "text/x-python",
   "name": "python",
   "nbconvert_exporter": "python",
   "pygments_lexer": "ipython3",
   "version": "3.8.3"
  },
  "toc": {
   "base_numbering": 1,
   "nav_menu": {},
   "number_sections": true,
   "sideBar": true,
   "skip_h1_title": false,
   "title_cell": "Table of Contents",
   "title_sidebar": "Contents",
   "toc_cell": false,
   "toc_position": {},
   "toc_section_display": true,
   "toc_window_display": false
  },
  "varInspector": {
   "cols": {
    "lenName": 16,
    "lenType": 16,
    "lenVar": 40
   },
   "kernels_config": {
    "python": {
     "delete_cmd_postfix": "",
     "delete_cmd_prefix": "del ",
     "library": "var_list.py",
     "varRefreshCmd": "print(var_dic_list())"
    },
    "r": {
     "delete_cmd_postfix": ") ",
     "delete_cmd_prefix": "rm(",
     "library": "var_list.r",
     "varRefreshCmd": "cat(var_dic_list()) "
    }
   },
   "types_to_exclude": [
    "module",
    "function",
    "builtin_function_or_method",
    "instance",
    "_Feature"
   ],
   "window_display": false
  }
 },
 "nbformat": 4,
 "nbformat_minor": 2
}
